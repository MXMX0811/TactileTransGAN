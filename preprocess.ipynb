{
 "cells": [
  {
   "cell_type": "code",
   "execution_count": 5,
   "metadata": {},
   "outputs": [],
   "source": [
    "from scipy import signal\n",
    "import os\n",
    "import pickle\n",
    "import librosa\n",
    "import librosa.display\n",
    "import numpy as np\n",
    "import matplotlib.pyplot as plt\n",
    "import sounddevice as sd\n",
    "import torchaudio\n",
    "import torch\n",
    "import torchaudio.transforms as T\n",
    "import pyloudnorm as pyln"
   ]
  },
  {
   "cell_type": "code",
   "execution_count": 7,
   "metadata": {},
   "outputs": [
    {
     "name": "stdout",
     "output_type": "stream",
     "text": [
      "(211611,)\n"
     ]
    }
   ],
   "source": [
    "data_path = \"LMTSoundScans\"\n",
    "file_name_list = os.listdir(data_path)\n",
    "index = np.random.randint(0, len(file_name_list)-1)\n",
    "target_wav_file = data_path + '/' + file_name_list[index]\n",
    "\n",
    "data, fs = librosa.load(target_wav_file, sr=44100)\n",
    "b, a = signal.butter(3, [20 / fs, 1000 / fs], 'bandpass')\n",
    "data = signal.filtfilt(b, a, data)\n",
    "print(data.shape)"
   ]
  },
  {
   "cell_type": "code",
   "execution_count": 4,
   "metadata": {},
   "outputs": [],
   "source": [
    "sd.play(data, 44100)"
   ]
  },
  {
   "cell_type": "code",
   "execution_count": 11,
   "metadata": {},
   "outputs": [],
   "source": [
    "def bandpass(wav_path):\n",
    "    data, fs = librosa.load(wav_path, sr=44100)\n",
    "    b, a = signal.butter(3, [20 / fs, 1000 / fs], 'bandpass')\n",
    "    data = signal.filtfilt(b, a, data)\n",
    "    return data"
   ]
  },
  {
   "cell_type": "code",
   "execution_count": 17,
   "metadata": {},
   "outputs": [
    {
     "name": "stdout",
     "output_type": "stream",
     "text": [
      "1080\n",
      "G1EpoxyRasterPlate_Sound_Movement_train1.wav\n",
      "(794, 132300)\n"
     ]
    },
    {
     "ename": "KeyError",
     "evalue": "'spectrogram'",
     "output_type": "error",
     "traceback": [
      "\u001b[1;31m---------------------------------------------------------------------------\u001b[0m",
      "\u001b[1;31mKeyError\u001b[0m                                  Traceback (most recent call last)",
      "Cell \u001b[1;32mIn[17], line 17\u001b[0m\n\u001b[0;32m     15\u001b[0m sample_n \u001b[38;5;241m=\u001b[39m samples\u001b[38;5;241m.\u001b[39mshape[\u001b[38;5;241m0\u001b[39m]\n\u001b[0;32m     16\u001b[0m \u001b[38;5;28mprint\u001b[39m(samples\u001b[38;5;241m.\u001b[39mshape)\n\u001b[1;32m---> 17\u001b[0m \u001b[43mautoencoder_data\u001b[49m\u001b[43m[\u001b[49m\u001b[38;5;124;43m'\u001b[39;49m\u001b[38;5;124;43mspectrogram\u001b[39;49m\u001b[38;5;124;43m'\u001b[39;49m\u001b[43m]\u001b[49m\u001b[38;5;241m.\u001b[39mextend(samples)\n\u001b[0;32m     18\u001b[0m texture_name \u001b[38;5;241m=\u001b[39m sound\u001b[38;5;241m.\u001b[39msplit(\u001b[38;5;124m'\u001b[39m\u001b[38;5;124m_\u001b[39m\u001b[38;5;124m'\u001b[39m)\n\u001b[0;32m     19\u001b[0m texture_name \u001b[38;5;241m=\u001b[39m texture_name[\u001b[38;5;241m0\u001b[39m]\n",
      "\u001b[1;31mKeyError\u001b[0m: 'spectrogram'"
     ]
    }
   ],
   "source": [
    "# whole dataset\n",
    "dataset_path = 'LMTSoundScans'\n",
    "autoencoder_data = {\"sound\": [], \"texture\": [], \"filename\":[]}\n",
    "\n",
    "num_record = len(os.listdir(dataset_path))\n",
    "print(num_record)\n",
    "n = 0\n",
    "\n",
    "for sound in os.listdir(dataset_path):\n",
    "    print(sound)\n",
    "    wav = bandpass(dataset_path + '/' + sound)\n",
    "    samples = np.lib.stride_tricks.sliding_window_view(wav,(44100*3))\n",
    "    samples = samples.squeeze()\n",
    "    samples = samples[::100,]\n",
    "    sample_n = samples.shape[0]\n",
    "    print(samples.shape)\n",
    "    autoencoder_data['spectrogram'].extend(samples)\n",
    "    texture_name = sound.split('_')\n",
    "    texture_name = texture_name[0]\n",
    "    n += 1\n",
    "    print(str(n) + '/' + str(num_record) + ', ' + texture_name)\n",
    "    autoencoder_data['texture'].extend([texture_name] * sample_n)\n",
    "    autoencoder_data['filename'].extend([sound] * sample_n)\n",
    "\n",
    "autoencoder_data['spectrogram'] = np.array(autoencoder_data['spectrogram'])\n",
    "file = open('trainset_LMT_large.pickle', 'wb')\n",
    "pickle.dump(autoencoder_data, file)\n",
    "file.close()\n"
   ]
  },
  {
   "cell_type": "code",
   "execution_count": 39,
   "metadata": {},
   "outputs": [],
   "source": [
    "with open('trainset_7-class.pickle', 'rb') as file:\n",
    "    autoencoder_data = pickle.load(file)"
   ]
  },
  {
   "cell_type": "code",
   "execution_count": 40,
   "metadata": {},
   "outputs": [
    {
     "name": "stdout",
     "output_type": "stream",
     "text": [
      "14400\n"
     ]
    }
   ],
   "source": [
    "print(len(autoencoder_data['texture']))"
   ]
  }
 ],
 "metadata": {
  "kernelspec": {
   "display_name": "Python 3",
   "language": "python",
   "name": "python3"
  },
  "language_info": {
   "codemirror_mode": {
    "name": "ipython",
    "version": 3
   },
   "file_extension": ".py",
   "mimetype": "text/x-python",
   "name": "python",
   "nbconvert_exporter": "python",
   "pygments_lexer": "ipython3",
   "version": "3.10.10"
  },
  "vscode": {
   "interpreter": {
    "hash": "bd385fe162c5ca0c84973b7dd5c518456272446b2b64e67c2a69f949ca7a1754"
   }
  }
 },
 "nbformat": 4,
 "nbformat_minor": 2
}
